{
 "cells": [
  {
   "cell_type": "code",
   "execution_count": 2,
   "id": "f89b1075-9eb8-455d-8fe9-bc86295fae1e",
   "metadata": {},
   "outputs": [
    {
     "data": {
      "text/plain": [
       "[1, 3, 12, 0, 0]"
      ]
     },
     "execution_count": 2,
     "metadata": {},
     "output_type": "execute_result"
    }
   ],
   "source": [
    "nums = [0,1,0,3,12]\n",
    "\n",
    "def MovingZeros(nums):\n",
    "    l = len(nums)\n",
    "    i,j = 0, l\n",
    "    while i < l:\n",
    "        if nums[i] == 0:\n",
    "            nums.remove(nums[i])\n",
    "            nums.append(0)\n",
    "        i += 1\n",
    "\n",
    "    return nums\n",
    "    \n",
    "MovingZeros(nums)"
   ]
  },
  {
   "cell_type": "code",
   "execution_count": null,
   "id": "4699b254-1996-4c97-a2e2-be0d92b6fbb2",
   "metadata": {},
   "outputs": [],
   "source": []
  }
 ],
 "metadata": {
  "kernelspec": {
   "display_name": "Python 3 (ipykernel)",
   "language": "python",
   "name": "python3"
  },
  "language_info": {
   "codemirror_mode": {
    "name": "ipython",
    "version": 3
   },
   "file_extension": ".py",
   "mimetype": "text/x-python",
   "name": "python",
   "nbconvert_exporter": "python",
   "pygments_lexer": "ipython3",
   "version": "3.10.8"
  }
 },
 "nbformat": 4,
 "nbformat_minor": 5
}
